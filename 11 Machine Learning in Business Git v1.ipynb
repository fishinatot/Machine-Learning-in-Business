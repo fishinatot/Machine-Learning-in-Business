{
 "cells": [
  {
   "cell_type": "markdown",
   "id": "f7a2c0d2",
   "metadata": {},
   "source": [
    "__Machine Learning in Business__\n",
    "\n",
    "You work for the OilyGiant mining company. Your task is to find the best place for a new well.\n",
    "\n",
    "You have data on oil samples from three regions. Parameters of each oil well in the region are already known.\n",
    "\n",
    "Build a model that will help to pick the region with the highest profit margin.\n",
    "\n",
    "Analyze potential profit and risks using the Bootstrapping technique.\n"
   ]
  },
  {
   "cell_type": "markdown",
   "id": "6b96238e",
   "metadata": {},
   "source": [
    "importing the libraries i'll need:"
   ]
  },
  {
   "cell_type": "code",
   "execution_count": 2,
   "id": "d61fa8b9",
   "metadata": {},
   "outputs": [],
   "source": [
    "import pandas as pd\n",
    "import numpy as np\n",
    "from sklearn import metrics\n",
    "#from sklearn.preprocessing import LabelEncoder\n",
    "#from sklearn import svm\n",
    "#from sklearn.neighbors import KNeighborsClassifier\n",
    "from sklearn.tree import DecisionTreeClassifier\n",
    "from sklearn.metrics import accuracy_score\n",
    "from sklearn.model_selection import train_test_split\n",
    "from sklearn.ensemble import RandomForestClassifier\n",
    "from sklearn.linear_model import LogisticRegression\n",
    "from sklearn.metrics import mean_squared_error\n",
    "#from sklearn.metrics import recall_score\n",
    "#from sklearn.metrics import precision_score\n",
    "#from sklearn.metrics import f1_score\n",
    "from sklearn.preprocessing import StandardScaler\n",
    "#from sklearn.preprocessing import OrdinalEncoder\n",
    "from sklearn.utils import shuffle\n",
    "#from sklearn.metrics import confusion_matrix\n",
    "#import seaborn as sns\n",
    "#import sidetable as stb\n",
    "#import matplotlib.pyplot as plt\n",
    "#from sklearn.metrics import f1_score\n",
    "#from sklearn.metrics import roc_auc_score\n",
    "from sklearn.linear_model import LinearRegression"
   ]
  },
  {
   "cell_type": "markdown",
   "id": "76ffd347",
   "metadata": {},
   "source": [
    "# Download and prepare the data. Explain the procedure"
   ]
  },
  {
   "cell_type": "code",
   "execution_count": 3,
   "id": "4e3891ce",
   "metadata": {},
   "outputs": [
    {
     "name": "stdout",
     "output_type": "stream",
     "text": [
      "      id        f0        f1        f2     product\n",
      "0  txEyH  0.705745 -0.497823  1.221170  105.280062\n",
      "1  2acmU  1.334711 -0.340164  4.365080   73.037750\n",
      "2  409Wp  1.022732  0.151990  1.419926   85.265647\n",
      "3  iJLyR -0.032172  0.139033  2.978566  168.620776\n",
      "4  Xdl7t  1.988431  0.155413  4.751769  154.036647\n",
      "      id         f0         f1        f2     product\n",
      "0  kBEdx -15.001348  -8.276000 -0.005876    3.179103\n",
      "1  62mP7  14.272088  -3.475083  0.999183   26.953261\n",
      "2  vyE1P   6.263187  -5.948386  5.001160  134.766305\n",
      "3  KcrkZ -13.081196 -11.506057  4.999415  137.945408\n",
      "4  AHL4O  12.702195  -8.147433  5.004363  134.766305\n",
      "      id        f0        f1        f2     product\n",
      "0  fwXo0 -1.146987  0.963328 -0.828965   27.758673\n",
      "1  WJtFt  0.262778  0.269839 -2.530187   56.069697\n",
      "2  ovLUW  0.194587  0.289035 -5.586433   62.871910\n",
      "3  q6cA6  2.236060 -0.553760  0.930038  114.572842\n",
      "4  WPMUX -0.515993  1.716266  5.899011  149.600746\n"
     ]
    }
   ],
   "source": [
    "try:\n",
    "    \n",
    "    path='C:\\\\Users\\\\aviv\\\\Downloads\\\\geo_data_0.csv'\n",
    "    data_0 = pd.read_csv(path)\n",
    "    print(data_0.head())\n",
    "    \n",
    "    path='C:\\\\Users\\\\aviv\\\\Downloads\\\\geo_data_1.csv'\n",
    "    data_1 = pd.read_csv(path)\n",
    "    print(data_1.head())\n",
    "    \n",
    "    path='C:\\\\Users\\\\aviv\\\\Downloads\\\\geo_data_2.csv'\n",
    "    data_2 = pd.read_csv(path)\n",
    "    print(data_2.head())\n",
    "\n",
    "    \n",
    "except:\n",
    "    path = '/datasets/geo_data_0.csv'\n",
    "    data_0 = pd.read_csv(path)\n",
    "    print(data_0.head())\n",
    "    \n",
    "    path = '/datasets/geo_data_1.csv'\n",
    "    data_1 = pd.read_csv(path)\n",
    "    print(data_1.head())\n",
    "    \n",
    "    path = '/datasets/geo_data_2.csv'\n",
    "    data_2 = pd.read_csv(path)\n",
    "    print(data_2.head())\n",
    "    \n",
    "\n",
    "    "
   ]
  },
  {
   "cell_type": "code",
   "execution_count": 4,
   "id": "717e624f",
   "metadata": {
    "scrolled": true
   },
   "outputs": [
    {
     "name": "stdout",
     "output_type": "stream",
     "text": [
      "<class 'pandas.core.frame.DataFrame'>\n",
      "RangeIndex: 100000 entries, 0 to 99999\n",
      "Data columns (total 5 columns):\n",
      " #   Column   Non-Null Count   Dtype  \n",
      "---  ------   --------------   -----  \n",
      " 0   id       100000 non-null  object \n",
      " 1   f0       100000 non-null  float64\n",
      " 2   f1       100000 non-null  float64\n",
      " 3   f2       100000 non-null  float64\n",
      " 4   product  100000 non-null  float64\n",
      "dtypes: float64(4), object(1)\n",
      "memory usage: 3.8+ MB\n",
      "None\n",
      "            id             f0             f1             f2        product\n",
      "count   100000  100000.000000  100000.000000  100000.000000  100000.000000\n",
      "unique   99990            NaN            NaN            NaN            NaN\n",
      "top      fiKDv            NaN            NaN            NaN            NaN\n",
      "freq         2            NaN            NaN            NaN            NaN\n",
      "mean       NaN       0.500419       0.250143       2.502647      92.500000\n",
      "std        NaN       0.871832       0.504433       3.248248      44.288691\n",
      "min        NaN      -1.408605      -0.848218     -12.088328       0.000000\n",
      "25%        NaN      -0.072580      -0.200881       0.287748      56.497507\n",
      "50%        NaN       0.502360       0.250252       2.515969      91.849972\n",
      "75%        NaN       1.073581       0.700646       4.715088     128.564089\n",
      "max        NaN       2.362331       1.343769      16.003790     185.364347\n",
      "<class 'pandas.core.frame.DataFrame'>\n",
      "RangeIndex: 100000 entries, 0 to 99999\n",
      "Data columns (total 5 columns):\n",
      " #   Column   Non-Null Count   Dtype  \n",
      "---  ------   --------------   -----  \n",
      " 0   id       100000 non-null  object \n",
      " 1   f0       100000 non-null  float64\n",
      " 2   f1       100000 non-null  float64\n",
      " 3   f2       100000 non-null  float64\n",
      " 4   product  100000 non-null  float64\n",
      "dtypes: float64(4), object(1)\n",
      "memory usage: 3.8+ MB\n",
      "None\n",
      "            id             f0             f1             f2        product\n",
      "count   100000  100000.000000  100000.000000  100000.000000  100000.000000\n",
      "unique   99996            NaN            NaN            NaN            NaN\n",
      "top      wt4Uk            NaN            NaN            NaN            NaN\n",
      "freq         2            NaN            NaN            NaN            NaN\n",
      "mean       NaN       1.141296      -4.796579       2.494541      68.825000\n",
      "std        NaN       8.965932       5.119872       1.703572      45.944423\n",
      "min        NaN     -31.609576     -26.358598      -0.018144       0.000000\n",
      "25%        NaN      -6.298551      -8.267985       1.000021      26.953261\n",
      "50%        NaN       1.153055      -4.813172       2.011479      57.085625\n",
      "75%        NaN       8.621015      -1.332816       3.999904     107.813044\n",
      "max        NaN      29.421755      18.734063       5.019721     137.945408\n",
      "<class 'pandas.core.frame.DataFrame'>\n",
      "RangeIndex: 100000 entries, 0 to 99999\n",
      "Data columns (total 5 columns):\n",
      " #   Column   Non-Null Count   Dtype  \n",
      "---  ------   --------------   -----  \n",
      " 0   id       100000 non-null  object \n",
      " 1   f0       100000 non-null  float64\n",
      " 2   f1       100000 non-null  float64\n",
      " 3   f2       100000 non-null  float64\n",
      " 4   product  100000 non-null  float64\n",
      "dtypes: float64(4), object(1)\n",
      "memory usage: 3.8+ MB\n",
      "None\n",
      "            id             f0             f1             f2        product\n",
      "count   100000  100000.000000  100000.000000  100000.000000  100000.000000\n",
      "unique   99996            NaN            NaN            NaN            NaN\n",
      "top      VF7Jo            NaN            NaN            NaN            NaN\n",
      "freq         2            NaN            NaN            NaN            NaN\n",
      "mean       NaN       0.002023      -0.002081       2.495128      95.000000\n",
      "std        NaN       1.732045       1.730417       3.473445      44.749921\n",
      "min        NaN      -8.760004      -7.084020     -11.970335       0.000000\n",
      "25%        NaN      -1.162288      -1.174820       0.130359      59.450441\n",
      "50%        NaN       0.009424      -0.009482       2.484236      94.925613\n",
      "75%        NaN       1.158535       1.163678       4.858794     130.595027\n",
      "max        NaN       7.238262       7.844801      16.739402     190.029838\n"
     ]
    }
   ],
   "source": [
    "data_list=[data_0, data_1, data_2]\n",
    "for data in data_list:\n",
    "    print(data.info())\n",
    "    print(data.describe(include='all'))\n",
    "\n",
    "    "
   ]
  },
  {
   "cell_type": "code",
   "execution_count": 5,
   "id": "2116da33",
   "metadata": {
    "scrolled": true
   },
   "outputs": [
    {
     "name": "stdout",
     "output_type": "stream",
     "text": [
      "<class 'pandas.core.frame.DataFrame'>\n",
      "RangeIndex: 100000 entries, 0 to 99999\n",
      "Data columns (total 4 columns):\n",
      " #   Column   Non-Null Count   Dtype  \n",
      "---  ------   --------------   -----  \n",
      " 0   f0       100000 non-null  float64\n",
      " 1   f1       100000 non-null  float64\n",
      " 2   f2       100000 non-null  float64\n",
      " 3   product  100000 non-null  float64\n",
      "dtypes: float64(4)\n",
      "memory usage: 3.1 MB\n",
      "None\n",
      "                  f0             f1             f2        product\n",
      "count  100000.000000  100000.000000  100000.000000  100000.000000\n",
      "mean        0.500419       0.250143       2.502647      92.500000\n",
      "std         0.871832       0.504433       3.248248      44.288691\n",
      "min        -1.408605      -0.848218     -12.088328       0.000000\n",
      "25%        -0.072580      -0.200881       0.287748      56.497507\n",
      "50%         0.502360       0.250252       2.515969      91.849972\n",
      "75%         1.073581       0.700646       4.715088     128.564089\n",
      "max         2.362331       1.343769      16.003790     185.364347\n",
      "<class 'pandas.core.frame.DataFrame'>\n",
      "RangeIndex: 100000 entries, 0 to 99999\n",
      "Data columns (total 4 columns):\n",
      " #   Column   Non-Null Count   Dtype  \n",
      "---  ------   --------------   -----  \n",
      " 0   f0       100000 non-null  float64\n",
      " 1   f1       100000 non-null  float64\n",
      " 2   f2       100000 non-null  float64\n",
      " 3   product  100000 non-null  float64\n",
      "dtypes: float64(4)\n",
      "memory usage: 3.1 MB\n",
      "None\n",
      "                  f0             f1             f2        product\n",
      "count  100000.000000  100000.000000  100000.000000  100000.000000\n",
      "mean        1.141296      -4.796579       2.494541      68.825000\n",
      "std         8.965932       5.119872       1.703572      45.944423\n",
      "min       -31.609576     -26.358598      -0.018144       0.000000\n",
      "25%        -6.298551      -8.267985       1.000021      26.953261\n",
      "50%         1.153055      -4.813172       2.011479      57.085625\n",
      "75%         8.621015      -1.332816       3.999904     107.813044\n",
      "max        29.421755      18.734063       5.019721     137.945408\n",
      "<class 'pandas.core.frame.DataFrame'>\n",
      "RangeIndex: 100000 entries, 0 to 99999\n",
      "Data columns (total 4 columns):\n",
      " #   Column   Non-Null Count   Dtype  \n",
      "---  ------   --------------   -----  \n",
      " 0   f0       100000 non-null  float64\n",
      " 1   f1       100000 non-null  float64\n",
      " 2   f2       100000 non-null  float64\n",
      " 3   product  100000 non-null  float64\n",
      "dtypes: float64(4)\n",
      "memory usage: 3.1 MB\n",
      "None\n",
      "                  f0             f1             f2        product\n",
      "count  100000.000000  100000.000000  100000.000000  100000.000000\n",
      "mean        0.002023      -0.002081       2.495128      95.000000\n",
      "std         1.732045       1.730417       3.473445      44.749921\n",
      "min        -8.760004      -7.084020     -11.970335       0.000000\n",
      "25%        -1.162288      -1.174820       0.130359      59.450441\n",
      "50%         0.009424      -0.009482       2.484236      94.925613\n",
      "75%         1.158535       1.163678       4.858794     130.595027\n",
      "max         7.238262       7.844801      16.739402     190.029838\n"
     ]
    }
   ],
   "source": [
    "for data in data_list:\n",
    "    data.drop(\"id\", axis=1, inplace = True)\n",
    "    print(data.info())\n",
    "    print(data.describe(include='all'))"
   ]
  },
  {
   "cell_type": "markdown",
   "id": "3d66eb48",
   "metadata": {},
   "source": [
    "# Train and test the model for each region:"
   ]
  },
  {
   "cell_type": "markdown",
   "id": "176d2807",
   "metadata": {},
   "source": [
    "## Split the data into a training set and validation set at a ratio of 75:25."
   ]
  },
  {
   "cell_type": "code",
   "execution_count": 6,
   "id": "17c3003b",
   "metadata": {},
   "outputs": [],
   "source": [
    "#geo0\n",
    "features0 = data_0.drop(['product'], axis=1)\n",
    "target0 = data_0['product']\n",
    "features_train0, features_valid0, target_train0, target_valid0 = train_test_split(\n",
    "    features0, target0, test_size=0.25, random_state=12345)"
   ]
  },
  {
   "cell_type": "code",
   "execution_count": 7,
   "id": "e446c4f3",
   "metadata": {},
   "outputs": [],
   "source": [
    "#geo1\n",
    "features1 = data_1.drop(['product'], axis=1)\n",
    "target1 = data_1['product']\n",
    "features_train1, features_valid1, target_train1, target_valid1 = train_test_split(\n",
    "    features1, target1, test_size=0.25, random_state=12345)"
   ]
  },
  {
   "cell_type": "code",
   "execution_count": 8,
   "id": "291dd0d1",
   "metadata": {},
   "outputs": [],
   "source": [
    "#geo2\n",
    "features2 = data_2.drop(['product'], axis=1)\n",
    "target2 = data_2['product']\n",
    "features_train2, features_valid2, target_train2, target_valid2 = train_test_split(\n",
    "    features2, target2, test_size=0.25, random_state=12345)"
   ]
  },
  {
   "cell_type": "markdown",
   "id": "7ae8148c",
   "metadata": {},
   "source": [
    "## Train the model and make predictions for the validation set."
   ]
  },
  {
   "cell_type": "code",
   "execution_count": 9,
   "id": "be93442d",
   "metadata": {},
   "outputs": [
    {
     "data": {
      "text/plain": [
       "LinearRegression()"
      ]
     },
     "execution_count": 9,
     "metadata": {},
     "output_type": "execute_result"
    }
   ],
   "source": [
    "#geo0\n",
    "model0 = LinearRegression()# initialize model constructor\n",
    "model0.fit(features_train0, target_train0) # train model on training set\n",
    "\n"
   ]
  },
  {
   "cell_type": "code",
   "execution_count": 10,
   "id": "b1b4bcff",
   "metadata": {},
   "outputs": [
    {
     "data": {
      "text/plain": [
       "LinearRegression()"
      ]
     },
     "execution_count": 10,
     "metadata": {},
     "output_type": "execute_result"
    }
   ],
   "source": [
    "#geo1\n",
    "model1 = LinearRegression()# initialize model constructor\n",
    "model1.fit(features_train1, target_train1) # train model on training set"
   ]
  },
  {
   "cell_type": "code",
   "execution_count": 11,
   "id": "d8645109",
   "metadata": {},
   "outputs": [
    {
     "data": {
      "text/plain": [
       "LinearRegression()"
      ]
     },
     "execution_count": 11,
     "metadata": {},
     "output_type": "execute_result"
    }
   ],
   "source": [
    "#geo2\n",
    "model2 = LinearRegression()# initialize model constructor\n",
    "model2.fit(features_train2, target_train2) # train model on training set"
   ]
  },
  {
   "cell_type": "markdown",
   "id": "cf16e6ab",
   "metadata": {},
   "source": [
    "## Save the predictions and correct answers for the validation set."
   ]
  },
  {
   "cell_type": "code",
   "execution_count": 12,
   "id": "b1813f79",
   "metadata": {},
   "outputs": [],
   "source": [
    "predictions_valid0 = model0.predict(features_valid0)# get model predictions on validation set"
   ]
  },
  {
   "cell_type": "code",
   "execution_count": 13,
   "id": "3e3a51d7",
   "metadata": {},
   "outputs": [],
   "source": [
    "predictions_valid1 = model1.predict(features_valid1) # get model predictions on validation set"
   ]
  },
  {
   "cell_type": "code",
   "execution_count": 14,
   "id": "5534c1e0",
   "metadata": {},
   "outputs": [],
   "source": [
    "predictions_valid2 = model2.predict(features_valid2) # get model predictions on validation set"
   ]
  },
  {
   "cell_type": "markdown",
   "id": "d2989a64",
   "metadata": {},
   "source": [
    "## Print the average volume of predicted reserves and model RMSE."
   ]
  },
  {
   "cell_type": "code",
   "execution_count": 15,
   "id": "cfdaa6e8",
   "metadata": {},
   "outputs": [
    {
     "name": "stdout",
     "output_type": "stream",
     "text": [
      "RMSE of the linear regression model on the validation set: 37.5794217150813\n",
      "avg volume of predicted reserves: 92.59256778438035\n",
      "RMSE for constant model: 44.289591053907365\n",
      "avg volume predicted by constant model: 92.64046775311564\n"
     ]
    }
   ],
   "source": [
    "result0 = mean_squared_error(target_valid0,predictions_valid0)**0.5 # calculate RMSE on validation set\n",
    "print(\"RMSE of the linear regression model on the validation set:\", result0)\n",
    "print(\"avg volume of predicted reserves:\", predictions_valid0.mean())\n",
    "\n",
    "predicted_valid0 = pd.Series(target_train0.mean(), index=target_valid0.index)\n",
    "print(\"RMSE for constant model:\",mean_squared_error(predicted_valid0, target_valid0)**0.5)\n",
    "print(\"avg volume predicted by constant model:\", predicted_valid0.mean())"
   ]
  },
  {
   "cell_type": "code",
   "execution_count": 16,
   "id": "85c13132",
   "metadata": {},
   "outputs": [
    {
     "name": "stdout",
     "output_type": "stream",
     "text": [
      "RMSE of the linear regression model on the validation set: 0.893099286775617\n",
      "avg volume of predicted reserves: 68.72854689544602\n",
      "RMSE for constant model: 46.02144533725471\n",
      "avg volume predicted by constant model: 68.85895465855572\n"
     ]
    }
   ],
   "source": [
    "result1 = mean_squared_error(target_valid1,predictions_valid1)**0.5 # calculate RMSE on validation set\n",
    "print(\"RMSE of the linear regression model on the validation set:\", result1)\n",
    "print(\"avg volume of predicted reserves:\", predictions_valid1.mean())\n",
    "predicted_valid1 = pd.Series(target_train1.mean(), index=target_valid1.index)\n",
    "print(\"RMSE for constant model:\",mean_squared_error(predicted_valid1, target_valid1)**0.5)\n",
    "print(\"avg volume predicted by constant model:\", predicted_valid1.mean())"
   ]
  },
  {
   "cell_type": "code",
   "execution_count": 17,
   "id": "501bf791",
   "metadata": {},
   "outputs": [
    {
     "name": "stdout",
     "output_type": "stream",
     "text": [
      "RMSE of the linear regression model on the validation set: 40.02970873393434\n",
      "avg volume of predicted reserves: 94.96504596800489\n",
      "RMSE for constant model: 44.90234968510567\n",
      "avg volume predicted by constant model: 95.03858906373009\n"
     ]
    }
   ],
   "source": [
    "result2 = mean_squared_error(target_valid2,predictions_valid2)**0.5 # calculate RMSE on validation set\n",
    "print(\"RMSE of the linear regression model on the validation set:\", result2)\n",
    "print(\"avg volume of predicted reserves:\", predictions_valid2.mean())\n",
    "predicted_valid2 = pd.Series(target_train2.mean(), index=target_valid2.index)\n",
    "print(\"RMSE for constant model:\",mean_squared_error(predicted_valid2, target_valid2)**0.5)\n",
    "print(\"avg volume predicted by constant model:\", predicted_valid2.mean())"
   ]
  },
  {
   "cell_type": "markdown",
   "id": "d097bbb2",
   "metadata": {},
   "source": [
    "## Analyze the results.\n",
    "second region has smallest RMSE, which means we can predict most accurately the volumes. so even though the volumes are smallest in 2nd region  we can be more sure of their accuracy"
   ]
  },
  {
   "cell_type": "markdown",
   "id": "9d4807d0",
   "metadata": {},
   "source": [
    "# Prepare for profit calculation:"
   ]
  },
  {
   "cell_type": "markdown",
   "id": "36729c4f",
   "metadata": {},
   "source": [
    "## Store all key values for calculations in separate variables."
   ]
  },
  {
   "cell_type": "code",
   "execution_count": 18,
   "id": "4133a2a6",
   "metadata": {},
   "outputs": [],
   "source": [
    "UNIT_PRICE = 4500 # a unit is 1000 barrels\n",
    "BUDGET_200 = 10**8 # budget is 100 million $\n",
    "N_WELLS = 200"
   ]
  },
  {
   "cell_type": "markdown",
   "id": "02ae3566",
   "metadata": {},
   "source": [
    "## Calculate the volume of reserves sufficient for developing a new well without losses. Compare the obtained value with the average volume of reserves in each region."
   ]
  },
  {
   "cell_type": "code",
   "execution_count": 21,
   "id": "bbf12a88",
   "metadata": {},
   "outputs": [
    {
     "data": {
      "text/plain": [
       "500000.0"
      ]
     },
     "execution_count": 21,
     "metadata": {},
     "output_type": "execute_result"
    }
   ],
   "source": [
    "BUDGET_PER_WELL = BUDGET_200 / N_WELLS\n",
    "BUDGET_PER_WELL"
   ]
  },
  {
   "cell_type": "markdown",
   "id": "0b3f92cf",
   "metadata": {},
   "source": [
    "now we have to figure out how many units a well has to have to develop without losses:"
   ]
  },
  {
   "cell_type": "code",
   "execution_count": 22,
   "id": "7288a8b1",
   "metadata": {},
   "outputs": [
    {
     "data": {
      "text/plain": [
       "111.11111111111111"
      ]
     },
     "execution_count": 22,
     "metadata": {},
     "output_type": "execute_result"
    }
   ],
   "source": [
    "MIN_VOLUME = BUDGET_PER_WELL / UNIT_PRICE\n",
    "MIN_VOLUME"
   ]
  },
  {
   "cell_type": "markdown",
   "id": "635010d6",
   "metadata": {},
   "source": [
    "## Provide the findings about the preparation for profit calculation step."
   ]
  },
  {
   "cell_type": "markdown",
   "id": "4a2d5274",
   "metadata": {},
   "source": [
    "so a well has to have at least 111 units (1000 barrels) to not lose.\n",
    "the avg volume predicted by the model for each of the regions was \n",
    "- geo0 - 92\n",
    "- geo1 - 69\n",
    "- geo2 - 94\n",
    "\n",
    "so taking only these numbers into account, i wouldn't pick geo1 to develop wells in, as the chances of being 200 wells with 111 units is slimmer because the avg amount is lower."
   ]
  },
  {
   "cell_type": "markdown",
   "id": "977c63f8",
   "metadata": {},
   "source": [
    "# Write a function to calculate profit from a set of selected oil wells and model predictions:"
   ]
  },
  {
   "cell_type": "markdown",
   "id": "0033f1b3",
   "metadata": {},
   "source": [
    "##  Pick the wells with the highest values of predictions. "
   ]
  },
  {
   "cell_type": "markdown",
   "id": "078c1459",
   "metadata": {},
   "source": [
    "sorting the predictions by volume, than taking the 200 most voluminous (predicted )wells"
   ]
  },
  {
   "cell_type": "code",
   "execution_count": 23,
   "id": "70309f49",
   "metadata": {
    "scrolled": true
   },
   "outputs": [
    {
     "data": {
      "text/plain": [
       "9317     180.180713\n",
       "219      176.252213\n",
       "10015    175.850623\n",
       "11584    175.658429\n",
       "23388    173.299686\n",
       "            ...    \n",
       "7888     148.507064\n",
       "7890     148.481767\n",
       "24051    148.476498\n",
       "24160    148.436761\n",
       "20340    148.365941\n",
       "Length: 200, dtype: float64"
      ]
     },
     "execution_count": 23,
     "metadata": {},
     "output_type": "execute_result"
    }
   ],
   "source": [
    "top_200_a = pd.Series(predictions_valid0).sort_values(ascending=False).head(200)\n",
    "top_200_a\n",
    "\n"
   ]
  },
  {
   "cell_type": "code",
   "execution_count": 24,
   "id": "8bb28e2c",
   "metadata": {
    "scrolled": true
   },
   "outputs": [
    {
     "data": {
      "text/plain": [
       "20430    139.818970\n",
       "7777     139.773423\n",
       "8755     139.703330\n",
       "1178     139.560938\n",
       "4285     139.516754\n",
       "            ...    \n",
       "12774    138.421423\n",
       "8040     138.416960\n",
       "2257     138.413881\n",
       "17108    138.412834\n",
       "9693     138.410697\n",
       "Length: 200, dtype: float64"
      ]
     },
     "execution_count": 24,
     "metadata": {},
     "output_type": "execute_result"
    }
   ],
   "source": [
    "top_200_b = pd.Series(predictions_valid1).sort_values(ascending=False).head(200)\n",
    "top_200_b\n"
   ]
  },
  {
   "cell_type": "code",
   "execution_count": 25,
   "id": "98123211",
   "metadata": {
    "scrolled": true
   },
   "outputs": [
    {
     "data": {
      "text/plain": [
       "22636    165.856833\n",
       "24690    165.679685\n",
       "7811     163.439962\n",
       "1581     162.062589\n",
       "6751     161.797476\n",
       "            ...    \n",
       "5541     142.490763\n",
       "18126    142.485922\n",
       "11122    142.465777\n",
       "22669    142.454763\n",
       "23447    142.408851\n",
       "Length: 200, dtype: float64"
      ]
     },
     "execution_count": 25,
     "metadata": {},
     "output_type": "execute_result"
    }
   ],
   "source": [
    "top_200_c = pd.Series(predictions_valid2).sort_values(ascending=False).head(200)\n",
    "top_200_c"
   ]
  },
  {
   "cell_type": "markdown",
   "id": "e60c7642",
   "metadata": {},
   "source": [
    "##  Summarize the target volume of reserves in accordance with these predictions"
   ]
  },
  {
   "cell_type": "markdown",
   "id": "747f7917",
   "metadata": {},
   "source": [
    "Here you need to calculate minimum volume of reserves sufficient for developing a new well without losses."
   ]
  },
  {
   "cell_type": "markdown",
   "id": "9c23d0ed",
   "metadata": {},
   "source": [
    "so as we calculated in chapter 3, the minimum volume of reserves to develop a well without losses is 111 units."
   ]
  },
  {
   "cell_type": "markdown",
   "id": "52b20d89",
   "metadata": {},
   "source": [
    "## Provide findings: suggest a region for oil wells' development and justify the choice. Calculate the profit for the obtained volume of reserves."
   ]
  },
  {
   "cell_type": "markdown",
   "id": "7963c26c",
   "metadata": {},
   "source": [
    "Here you need to create a function to calculate the potential profit from the top 200 wells by region."
   ]
  },
  {
   "cell_type": "code",
   "execution_count": 27,
   "id": "d185e4c7",
   "metadata": {},
   "outputs": [
    {
     "name": "stdout",
     "output_type": "stream",
     "text": [
      "profit of region:  39960488.77465123\n",
      "profit of region:  24857120.519735396\n",
      "profit of region:  33217543.962432653\n"
     ]
    }
   ],
   "source": [
    "def profit(well_list):\n",
    "    print(\"profit of region: \", (sum(well_list)*UNIT_PRICE - BUDGET_200))\n",
    "    return\n",
    "profit(top_200_a)\n",
    "profit(top_200_b)\n",
    "profit(top_200_c)\n",
    "\n",
    "    "
   ]
  },
  {
   "cell_type": "markdown",
   "id": "8c2b40f5",
   "metadata": {},
   "source": [
    "although geo1 is predicted to be the least voluminous and profitable, i'd take a chance with that region as the model has the smallest RMSE, so we can trust that geo1 actually delivers the goods even though it may seem the least profitable region"
   ]
  },
  {
   "cell_type": "markdown",
   "id": "a057d713",
   "metadata": {},
   "source": [
    "# Calculate risks and profit for each region:"
   ]
  },
  {
   "cell_type": "markdown",
   "id": "0fff6c23",
   "metadata": {},
   "source": [
    "## Use the bootstrapping technique with 1000 samples to find the distribution of profit.\n",
    "## Find average profit, 95% confidence interval and risk of losses. Loss is negative profit, calculate it as a probability and then express as a percentage."
   ]
  },
  {
   "cell_type": "code",
   "execution_count": 37,
   "id": "4133249e",
   "metadata": {},
   "outputs": [],
   "source": [
    "def boot_strap(target, predictions):\n",
    "    def profit(target, probabilities, count):\n",
    "        probs_sorted = pd.Series(probabilities).sort_values(ascending=False)\n",
    "        selected = target[probs_sorted.index][:count]\n",
    "        \n",
    "        well_boot = (selected*UNIT_PRICE) - BUDGET_PER_WELL\n",
    "        #print(well_boot)\n",
    "        return well_boot.sum()\n",
    "\n",
    "    state = np.random.RandomState(12345)\n",
    "    n_tests = 1000\n",
    "    ##experiment with indices\n",
    "    predictions = pd.Series(predictions, index=target.index)\n",
    "    \n",
    "    ##\n",
    "    values = []\n",
    "    for i in range(n_tests):\n",
    "        target_subsample = target.sample(n=500, replace=True, random_state=state)\n",
    "        probs_subsample = predictions[target_subsample.index]\n",
    "        sample = profit(target_subsample, probs_subsample, 200)\n",
    "        values.append(sample)\n",
    "    \n",
    "    loss = 0\n",
    "    for val in values:\n",
    "        if val < 0:\n",
    "            loss += 1\n",
    "    values = pd.Series(values)\n",
    "    lower = values.quantile(0.025)\n",
    "    higher = values.quantile(0.975)\n",
    "    mean = values.mean()\n",
    "    print(\"Average profit:\", mean/10**6,\"million dollars\")\n",
    "    print(\"2.5% quantile:\", lower/10**6, \"million dollars\")\n",
    "    print(\"97.5% quantile:\", higher/10**6, \"million dollars\")\n",
    "    print('Number of losses:', loss)\n",
    "    print(\"percent losses:\", loss / n_tests * 100, \"%\")"
   ]
  },
  {
   "cell_type": "code",
   "execution_count": 38,
   "id": "f3003ad7",
   "metadata": {},
   "outputs": [
    {
     "name": "stdout",
     "output_type": "stream",
     "text": [
      "region 1:\n",
      "Average profit: 4.259385269105927 million dollars\n",
      "2.5% quantile: -1.0209009483793727 million dollars\n",
      "97.5% quantile: 9.479763533583691 million dollars\n",
      "Number of losses: 60\n",
      "percent losses: 6.0 %\n",
      "**************************************************\n",
      "region 2:\n",
      "Average profit: 5.1522277344328975 million dollars\n",
      "2.5% quantile: 0.6887322537050338 million dollars\n",
      "97.5% quantile: 9.315475912570488 million dollars\n",
      "Number of losses: 10\n",
      "percent losses: 1.0 %\n",
      "**************************************************\n",
      "region 3:\n",
      "Average profit: 4.3500836278275585 million dollars\n",
      "2.5% quantile: -1.2888054732978877 million dollars\n",
      "97.5% quantile: 9.69706954180266 million dollars\n",
      "Number of losses: 64\n",
      "percent losses: 6.4 %\n"
     ]
    }
   ],
   "source": [
    "print(\"region 1:\")\n",
    "boot_strap(target_valid0, predictions_valid0)\n",
    "print('*'*50)\n",
    "print(\"region 2:\")\n",
    "boot_strap(target_valid1, predictions_valid1)\n",
    "print('*'*50)\n",
    "print(\"region 3:\")\n",
    "boot_strap(target_valid2, predictions_valid2)"
   ]
  },
  {
   "cell_type": "markdown",
   "id": "b9ba6645",
   "metadata": {},
   "source": [
    "## Provide findings: suggest a region for development of oil wells and justify the choice."
   ]
  },
  {
   "cell_type": "markdown",
   "id": "150e2ee1",
   "metadata": {},
   "source": [
    "for region 2:\n",
    "- the average profit is higher than the other 2 regions\n",
    "- the accuracy for predictions is high (by RMSE)\n",
    "- the risk is low\n",
    "- we can be 95% it'll be at least 0.6 million dollars profitable\n",
    "for the reasons above, i suggest choosing region 2 (geo 1)"
   ]
  }
 ],
 "metadata": {
  "ExecuteTimeLog": [
   {
    "duration": 2957,
    "start_time": "2022-07-13T11:14:55.895Z"
   },
   {
    "duration": 1884,
    "start_time": "2022-07-13T11:14:58.855Z"
   },
   {
    "duration": 309,
    "start_time": "2022-07-13T11:15:00.741Z"
   },
   {
    "duration": 128,
    "start_time": "2022-07-13T11:15:01.053Z"
   },
   {
    "duration": 27,
    "start_time": "2022-07-13T11:15:01.184Z"
   },
   {
    "duration": 18,
    "start_time": "2022-07-13T11:15:01.213Z"
   },
   {
    "duration": 40,
    "start_time": "2022-07-13T11:15:01.232Z"
   },
   {
    "duration": 25,
    "start_time": "2022-07-13T11:15:01.274Z"
   },
   {
    "duration": 49,
    "start_time": "2022-07-13T11:15:01.301Z"
   },
   {
    "duration": 18,
    "start_time": "2022-07-13T11:15:01.352Z"
   },
   {
    "duration": 32,
    "start_time": "2022-07-13T11:15:01.372Z"
   },
   {
    "duration": 215,
    "start_time": "2022-07-13T11:15:01.406Z"
   },
   {
    "duration": 194,
    "start_time": "2022-07-13T11:15:01.623Z"
   },
   {
    "duration": 183,
    "start_time": "2022-07-13T11:15:01.821Z"
   },
   {
    "duration": 16,
    "start_time": "2022-07-13T11:15:02.006Z"
   },
   {
    "duration": 16,
    "start_time": "2022-07-13T11:15:02.024Z"
   },
   {
    "duration": 15,
    "start_time": "2022-07-13T11:15:02.042Z"
   },
   {
    "duration": 10,
    "start_time": "2022-07-13T11:15:02.058Z"
   },
   {
    "duration": 10,
    "start_time": "2022-07-13T11:15:02.069Z"
   },
   {
    "duration": 15,
    "start_time": "2022-07-13T11:15:02.081Z"
   },
   {
    "duration": 12,
    "start_time": "2022-07-13T11:15:02.097Z"
   },
   {
    "duration": 19,
    "start_time": "2022-07-13T11:15:02.111Z"
   },
   {
    "duration": 109,
    "start_time": "2022-07-13T11:15:02.132Z"
   },
   {
    "duration": 0,
    "start_time": "2022-07-13T11:15:02.243Z"
   },
   {
    "duration": 0,
    "start_time": "2022-07-13T11:15:02.244Z"
   },
   {
    "duration": 0,
    "start_time": "2022-07-13T11:15:02.245Z"
   },
   {
    "duration": 0,
    "start_time": "2022-07-13T11:15:02.246Z"
   },
   {
    "duration": 4,
    "start_time": "2022-07-13T11:15:19.796Z"
   },
   {
    "duration": 6,
    "start_time": "2022-07-13T11:15:21.285Z"
   },
   {
    "duration": 15,
    "start_time": "2022-07-13T11:15:21.692Z"
   },
   {
    "duration": 14,
    "start_time": "2022-07-13T11:15:22.185Z"
   },
   {
    "duration": 5,
    "start_time": "2022-07-13T11:15:44.391Z"
   },
   {
    "duration": 4,
    "start_time": "2022-07-13T11:15:53.052Z"
   },
   {
    "duration": 5,
    "start_time": "2022-07-13T11:16:03.186Z"
   },
   {
    "duration": 37,
    "start_time": "2022-07-13T11:16:03.685Z"
   },
   {
    "duration": 6,
    "start_time": "2022-07-13T11:16:46.285Z"
   },
   {
    "duration": 1349,
    "start_time": "2022-07-13T11:16:46.727Z"
   },
   {
    "duration": 6,
    "start_time": "2022-07-13T11:17:07.397Z"
   },
   {
    "duration": 2008,
    "start_time": "2022-07-13T11:17:07.796Z"
   },
   {
    "duration": 2050,
    "start_time": "2022-07-13T11:17:11.541Z"
   },
   {
    "duration": 2130,
    "start_time": "2022-07-13T11:17:13.593Z"
   },
   {
    "duration": 2087,
    "start_time": "2022-07-13T11:17:26.402Z"
   },
   {
    "duration": 10,
    "start_time": "2022-07-13T15:44:01.170Z"
   },
   {
    "duration": 39,
    "start_time": "2022-07-13T15:44:01.513Z"
   },
   {
    "duration": 7,
    "start_time": "2022-07-13T15:44:01.810Z"
   },
   {
    "duration": 2622,
    "start_time": "2022-07-13T15:44:05.121Z"
   },
   {
    "duration": 1832,
    "start_time": "2022-07-13T15:44:07.744Z"
   },
   {
    "duration": 264,
    "start_time": "2022-07-13T15:44:09.578Z"
   },
   {
    "duration": 110,
    "start_time": "2022-07-13T15:44:09.844Z"
   },
   {
    "duration": 13,
    "start_time": "2022-07-13T15:44:09.957Z"
   },
   {
    "duration": 15,
    "start_time": "2022-07-13T15:44:09.972Z"
   },
   {
    "duration": 15,
    "start_time": "2022-07-13T15:44:09.989Z"
   },
   {
    "duration": 47,
    "start_time": "2022-07-13T15:44:10.006Z"
   },
   {
    "duration": 10,
    "start_time": "2022-07-13T15:44:10.055Z"
   },
   {
    "duration": 9,
    "start_time": "2022-07-13T15:44:10.066Z"
   },
   {
    "duration": 4,
    "start_time": "2022-07-13T15:44:10.076Z"
   },
   {
    "duration": 171,
    "start_time": "2022-07-13T15:44:10.082Z"
   },
   {
    "duration": 100,
    "start_time": "2022-07-13T15:44:10.255Z"
   },
   {
    "duration": 94,
    "start_time": "2022-07-13T15:44:10.358Z"
   },
   {
    "duration": 8,
    "start_time": "2022-07-13T15:44:10.454Z"
   },
   {
    "duration": 9,
    "start_time": "2022-07-13T15:44:10.463Z"
   },
   {
    "duration": 4,
    "start_time": "2022-07-13T15:44:10.473Z"
   },
   {
    "duration": 6,
    "start_time": "2022-07-13T15:44:10.478Z"
   },
   {
    "duration": 5,
    "start_time": "2022-07-13T15:44:10.485Z"
   },
   {
    "duration": 10,
    "start_time": "2022-07-13T15:44:10.491Z"
   },
   {
    "duration": 7,
    "start_time": "2022-07-13T15:44:10.502Z"
   },
   {
    "duration": 43,
    "start_time": "2022-07-13T15:44:10.510Z"
   },
   {
    "duration": 5,
    "start_time": "2022-07-13T15:44:10.554Z"
   },
   {
    "duration": 7,
    "start_time": "2022-07-13T15:44:10.560Z"
   },
   {
    "duration": 6,
    "start_time": "2022-07-13T15:44:10.569Z"
   },
   {
    "duration": 5,
    "start_time": "2022-07-13T15:44:10.577Z"
   },
   {
    "duration": 1393,
    "start_time": "2022-07-13T15:44:10.584Z"
   },
   {
    "duration": 1310,
    "start_time": "2022-07-13T15:44:11.979Z"
   },
   {
    "duration": 1307,
    "start_time": "2022-07-13T15:44:13.291Z"
   },
   {
    "duration": 4,
    "start_time": "2022-07-13T15:44:21.374Z"
   },
   {
    "duration": 381,
    "start_time": "2022-07-13T15:44:21.380Z"
   },
   {
    "duration": 225,
    "start_time": "2022-07-13T15:44:21.763Z"
   },
   {
    "duration": 95,
    "start_time": "2022-07-13T15:44:21.990Z"
   },
   {
    "duration": 10,
    "start_time": "2022-07-13T15:44:22.087Z"
   },
   {
    "duration": 10,
    "start_time": "2022-07-13T15:44:22.098Z"
   },
   {
    "duration": 9,
    "start_time": "2022-07-13T15:44:22.110Z"
   },
   {
    "duration": 33,
    "start_time": "2022-07-13T15:44:22.120Z"
   },
   {
    "duration": 9,
    "start_time": "2022-07-13T15:44:22.154Z"
   },
   {
    "duration": 10,
    "start_time": "2022-07-13T15:44:22.164Z"
   },
   {
    "duration": 77,
    "start_time": "2022-07-13T15:44:22.175Z"
   },
   {
    "duration": 101,
    "start_time": "2022-07-13T15:44:22.254Z"
   },
   {
    "duration": 96,
    "start_time": "2022-07-13T15:44:22.357Z"
   },
   {
    "duration": 108,
    "start_time": "2022-07-13T15:44:22.456Z"
   },
   {
    "duration": 10,
    "start_time": "2022-07-13T15:44:22.565Z"
   },
   {
    "duration": 8,
    "start_time": "2022-07-13T15:44:22.653Z"
   },
   {
    "duration": 2,
    "start_time": "2022-07-13T15:44:22.663Z"
   },
   {
    "duration": 6,
    "start_time": "2022-07-13T15:44:22.667Z"
   },
   {
    "duration": 5,
    "start_time": "2022-07-13T15:44:22.674Z"
   },
   {
    "duration": 11,
    "start_time": "2022-07-13T15:44:22.680Z"
   },
   {
    "duration": 9,
    "start_time": "2022-07-13T15:44:22.692Z"
   },
   {
    "duration": 8,
    "start_time": "2022-07-13T15:44:22.702Z"
   },
   {
    "duration": 44,
    "start_time": "2022-07-13T15:44:22.711Z"
   },
   {
    "duration": 8,
    "start_time": "2022-07-13T15:44:22.756Z"
   },
   {
    "duration": 9,
    "start_time": "2022-07-13T15:44:22.765Z"
   },
   {
    "duration": 7,
    "start_time": "2022-07-13T15:44:22.776Z"
   },
   {
    "duration": 1116,
    "start_time": "2022-07-13T15:44:22.784Z"
   },
   {
    "duration": 1127,
    "start_time": "2022-07-13T15:44:23.901Z"
   },
   {
    "duration": 1172,
    "start_time": "2022-07-13T15:44:25.030Z"
   }
  ],
  "kernelspec": {
   "display_name": "Python 3 (ipykernel)",
   "language": "python",
   "name": "python3"
  },
  "language_info": {
   "codemirror_mode": {
    "name": "ipython",
    "version": 3
   },
   "file_extension": ".py",
   "mimetype": "text/x-python",
   "name": "python",
   "nbconvert_exporter": "python",
   "pygments_lexer": "ipython3",
   "version": "3.8.8"
  },
  "toc": {
   "base_numbering": 1,
   "nav_menu": {},
   "number_sections": true,
   "sideBar": true,
   "skip_h1_title": false,
   "title_cell": "Table of Contents",
   "title_sidebar": "Contents",
   "toc_cell": false,
   "toc_position": {},
   "toc_section_display": true,
   "toc_window_display": false
  }
 },
 "nbformat": 4,
 "nbformat_minor": 5
}
